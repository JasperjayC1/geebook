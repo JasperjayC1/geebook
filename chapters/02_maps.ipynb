{
 "cells": [
  {
   "cell_type": "markdown",
   "id": "4083e569",
   "metadata": {},
   "source": [
    "# Creating Interactive Maps\n",
    "\n",
    "```{contents}\n",
    ":local:\n",
    ":depth: 2\n",
    "```\n",
    "\n",
    "## Introduction\n",
    "\n",
    "## Technical requirements\n",
    "\n",
    "```bash\n",
    "conda create -n gee python\n",
    "conda activate gee\n",
    "conda install -c conda-forge mamba\n",
    "mamba install -c conda-forge geemap pygis\n",
    "```\n",
    "\n",
    "[![Open in Colab](https://colab.research.google.com/assets/colab-badge.svg)](https://colab.research.google.com/github/giswqs/geebook/blob/master/chapters/02_maps.ipynb)"
   ]
  },
  {
   "cell_type": "code",
   "execution_count": null,
   "id": "58f2cca6",
   "metadata": {},
   "outputs": [],
   "source": [
    "# pip install pygis"
   ]
  },
  {
   "cell_type": "markdown",
   "id": "2f5d9179",
   "metadata": {},
   "source": [
    "## Plotting backends\n",
    "\n",
    "### Ipyleaflet"
   ]
  },
  {
   "cell_type": "code",
   "execution_count": null,
   "id": "8c1c13e7",
   "metadata": {},
   "outputs": [],
   "source": [
    "import geemap"
   ]
  },
  {
   "cell_type": "code",
   "execution_count": null,
   "id": "b24b67af",
   "metadata": {},
   "outputs": [],
   "source": [
    "Map = geemap.Map()"
   ]
  },
  {
   "cell_type": "code",
   "execution_count": null,
   "id": "aece12e3",
   "metadata": {},
   "outputs": [],
   "source": [
    "Map"
   ]
  },
  {
   "cell_type": "code",
   "execution_count": null,
   "id": "942cf808",
   "metadata": {},
   "outputs": [],
   "source": [
    "Map = geemap.Map(center=[40, -100], zoom=4, height=600)\n",
    "Map"
   ]
  },
  {
   "cell_type": "code",
   "execution_count": null,
   "id": "48360e4c",
   "metadata": {},
   "outputs": [],
   "source": [
    "Map = geemap.Map(data_ctrl=False, toolbar_ctrl=False, draw_ctrl=False)\n",
    "Map"
   ]
  },
  {
   "cell_type": "code",
   "execution_count": null,
   "id": "e5f98804",
   "metadata": {},
   "outputs": [],
   "source": [
    "Map = geemap.Map(lite_mode=True)\n",
    "Map"
   ]
  },
  {
   "cell_type": "code",
   "execution_count": null,
   "id": "a6771602",
   "metadata": {},
   "outputs": [],
   "source": [
    "Map.save('ipyleaflet.html')"
   ]
  },
  {
   "cell_type": "markdown",
   "id": "84b8a8e5",
   "metadata": {},
   "source": [
    "### Folium"
   ]
  },
  {
   "cell_type": "code",
   "execution_count": null,
   "id": "9ad559c6",
   "metadata": {},
   "outputs": [],
   "source": [
    "import geemap.foliumap as geemap"
   ]
  },
  {
   "cell_type": "code",
   "execution_count": null,
   "id": "14e6f67c",
   "metadata": {},
   "outputs": [],
   "source": [
    "Map = geemap.Map(center=[40, -100], zoom=4, height=600)\n",
    "Map"
   ]
  },
  {
   "cell_type": "code",
   "execution_count": null,
   "id": "7c5bc2ad",
   "metadata": {},
   "outputs": [],
   "source": [
    "Map.save('folium.html')"
   ]
  },
  {
   "cell_type": "markdown",
   "id": "e9a2a84f",
   "metadata": {},
   "source": [
    "### Plotly"
   ]
  },
  {
   "cell_type": "code",
   "execution_count": null,
   "id": "b099fb41",
   "metadata": {},
   "outputs": [],
   "source": [
    "import geemap.plotlymap as geemap"
   ]
  },
  {
   "cell_type": "code",
   "execution_count": null,
   "id": "c73ec94a",
   "metadata": {},
   "outputs": [],
   "source": [
    "Map = geemap.Map()\n",
    "Map"
   ]
  },
  {
   "cell_type": "markdown",
   "id": "1fa87be5",
   "metadata": {},
   "source": [
    "```{warning}\n",
    "\n",
    "If you run into an error saying `FigureWidget - 'mapbox._derived' Value Error` ([source](https://github.com/plotly/plotly.py/issues/2570#issuecomment-738735816)), uncomment the following line and run it.\n",
    "```"
   ]
  },
  {
   "cell_type": "code",
   "execution_count": null,
   "id": "5cc86739",
   "metadata": {},
   "outputs": [],
   "source": [
    "# geemap.fix_widget_error()"
   ]
  },
  {
   "cell_type": "markdown",
   "id": "71a03f92",
   "metadata": {},
   "source": [
    "### Pydeck"
   ]
  },
  {
   "cell_type": "code",
   "execution_count": null,
   "id": "47457c30",
   "metadata": {},
   "outputs": [],
   "source": [
    "import geemap.deck as geemap"
   ]
  },
  {
   "cell_type": "code",
   "execution_count": null,
   "id": "3eff3924",
   "metadata": {},
   "outputs": [],
   "source": [
    "Map = geemap.Map()\n",
    "Map"
   ]
  },
  {
   "cell_type": "markdown",
   "id": "17bcb21a",
   "metadata": {},
   "source": [
    "### KeplerGL"
   ]
  },
  {
   "cell_type": "code",
   "execution_count": null,
   "id": "8c989c7a",
   "metadata": {},
   "outputs": [],
   "source": [
    "import geemap.kepler as geemap"
   ]
  },
  {
   "cell_type": "code",
   "execution_count": null,
   "id": "a519e0fe",
   "metadata": {},
   "outputs": [],
   "source": [
    "Map = geemap.Map()\n",
    "Map"
   ]
  },
  {
   "cell_type": "markdown",
   "id": "2cb42a58",
   "metadata": {},
   "source": [
    "### Heremap"
   ]
  },
  {
   "cell_type": "code",
   "execution_count": null,
   "id": "cdad58d1",
   "metadata": {},
   "outputs": [],
   "source": [
    "import os\n",
    "import geemap.heremap as geemap"
   ]
  },
  {
   "cell_type": "code",
   "execution_count": null,
   "id": "374a3de7",
   "metadata": {},
   "outputs": [],
   "source": [
    "api_key = 'YOUR-HEREMAPS_API_KEY'"
   ]
  },
  {
   "cell_type": "code",
   "execution_count": null,
   "id": "86aab964",
   "metadata": {},
   "outputs": [],
   "source": [
    "Map = geemap.Map(api_key)\n",
    "Map"
   ]
  },
  {
   "cell_type": "markdown",
   "id": "4b1bb937",
   "metadata": {},
   "source": [
    "## Adding basemaps\n",
    "\n",
    "### Built-in basemaps"
   ]
  },
  {
   "cell_type": "code",
   "execution_count": null,
   "id": "2971578d",
   "metadata": {},
   "outputs": [],
   "source": [
    "import geemap"
   ]
  },
  {
   "cell_type": "code",
   "execution_count": null,
   "id": "f9e2d4e4",
   "metadata": {},
   "outputs": [],
   "source": [
    "Map = geemap.Map(basemap='HYBRID')\n",
    "Map"
   ]
  },
  {
   "cell_type": "code",
   "execution_count": null,
   "id": "03d5f5a8",
   "metadata": {},
   "outputs": [],
   "source": [
    "Map.add_basemap('OpenTopoMap')"
   ]
  },
  {
   "cell_type": "code",
   "execution_count": null,
   "id": "128c771f",
   "metadata": {},
   "outputs": [],
   "source": [
    "for basemap in geemap.basemaps.keys():\n",
    "    print(basemap)"
   ]
  },
  {
   "cell_type": "code",
   "execution_count": null,
   "id": "a3dd92cf",
   "metadata": {},
   "outputs": [],
   "source": [
    "len(geemap.basemaps)"
   ]
  },
  {
   "cell_type": "markdown",
   "id": "afee9787",
   "metadata": {},
   "source": [
    "### XYZ tiles"
   ]
  },
  {
   "cell_type": "code",
   "execution_count": null,
   "id": "d4c276ee",
   "metadata": {},
   "outputs": [],
   "source": [
    "Map = geemap.Map()\n",
    "Map.add_tile_layer(\n",
    "    url=\"https://mt1.google.com/vt/lyrs=p&x={x}&y={y}&z={z}\",\n",
    "    name=\"Google Terrain\",\n",
    "    attribution=\"Google\",\n",
    ")\n",
    "Map"
   ]
  },
  {
   "cell_type": "markdown",
   "id": "ec6b26c9",
   "metadata": {},
   "source": [
    "### WMS tiles"
   ]
  },
  {
   "cell_type": "code",
   "execution_count": null,
   "id": "97db2631",
   "metadata": {},
   "outputs": [],
   "source": [
    "Map = geemap.Map(center=[40, -100], zoom=4)\n",
    "url = 'https://www.mrlc.gov/geoserver/mrlc_display/NLCD_2019_Land_Cover_L48/wms?'\n",
    "Map.add_wms_layer(\n",
    "    url=url,\n",
    "    layers='NLCD_2019_Land_Cover_L48',\n",
    "    name='NLCD 2019',\n",
    "    format='image/png',\n",
    "    attribution='MRLC',\n",
    "    transparent=True,\n",
    ")\n",
    "Map"
   ]
  },
  {
   "cell_type": "markdown",
   "id": "42cbabda",
   "metadata": {},
   "source": [
    "### Planet basemaps"
   ]
  },
  {
   "cell_type": "code",
   "execution_count": null,
   "id": "3bac83d0",
   "metadata": {},
   "outputs": [],
   "source": [
    "import os\n",
    "\n",
    "os.environ[\"PLANET_API_KEY\"] = \"YOUR_API_KEY\""
   ]
  },
  {
   "cell_type": "code",
   "execution_count": null,
   "id": "961ec39d",
   "metadata": {},
   "outputs": [],
   "source": [
    "quarterly_tiles = geemap.planet_quarterly_tiles()\n",
    "for tile in quarterly_tiles:\n",
    "    print(tile)"
   ]
  },
  {
   "cell_type": "code",
   "execution_count": null,
   "id": "19b39489",
   "metadata": {},
   "outputs": [],
   "source": [
    "monthly_tiles = geemap.planet_monthly_tiles()\n",
    "for tile in monthly_tiles:\n",
    "    print(tile)"
   ]
  },
  {
   "cell_type": "code",
   "execution_count": null,
   "id": "baf542bc",
   "metadata": {},
   "outputs": [],
   "source": [
    "m = geemap.Map()\n",
    "m.add_planet_by_month(year=2020, month=8)\n",
    "m"
   ]
  },
  {
   "cell_type": "code",
   "execution_count": null,
   "id": "f18df03a",
   "metadata": {},
   "outputs": [],
   "source": [
    "m = geemap.Map()\n",
    "m.add_planet_by_quarter(year=2019, quarter=2)\n",
    "m"
   ]
  },
  {
   "cell_type": "markdown",
   "id": "7914986d",
   "metadata": {},
   "source": [
    "### Basemap GUI"
   ]
  },
  {
   "cell_type": "code",
   "execution_count": null,
   "id": "4344ebd8",
   "metadata": {},
   "outputs": [],
   "source": [
    "import os\n",
    "\n",
    "os.environ[\"PLANET_API_KEY\"] = \"YOUR_API_KEY\""
   ]
  },
  {
   "cell_type": "code",
   "execution_count": null,
   "id": "ad22d630",
   "metadata": {},
   "outputs": [],
   "source": [
    "Map = geemap.Map()\n",
    "Map"
   ]
  },
  {
   "cell_type": "markdown",
   "id": "123f0441",
   "metadata": {},
   "source": [
    "## Summary\n",
    "\n",
    "## References\n",
    "\n",
    "- https://geemap.org/notebooks/01_geemap_intro/\n",
    "- https://geemap.org/notebooks/02_using_basemaps/\n",
    "- https://geemap.org/notebooks/29_pydeck/\n",
    "- https://geemap.org/notebooks/77_planet_imagery/\n",
    "- https://geemap.org/notebooks/92_plotly/\n",
    "- https://geemap.org/notebooks/94_heremap/\n",
    "- https://geemap.org/notebooks/106_kepler_gl/\n",
    "- https://geemap.org/notebooks/107_pydeck/"
   ]
  }
 ],
 "metadata": {
  "kernelspec": {
   "display_name": "Python 3",
   "language": "python",
   "name": "python3"
  }
 },
 "nbformat": 4,
 "nbformat_minor": 5
}
