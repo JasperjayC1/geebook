{
 "cells": [
  {
   "cell_type": "markdown",
   "id": "865742d9",
   "metadata": {},
   "source": [
    "# Using Local Geospatial Data\n",
    "\n",
    "```{contents}\n",
    ":local:\n",
    ":depth: 2\n",
    "```\n",
    "\n",
    "## Introduction"
   ]
  },
  {
   "cell_type": "markdown",
   "id": "1d5c77f5",
   "metadata": {},
   "source": [
    "## Technical requirements\n",
    "\n",
    "```bash\n",
    "conda create -n gee python\n",
    "conda activate gee\n",
    "conda install -c conda-forge mamba\n",
    "mamba install -c conda-forge geemap pygis\n",
    "```\n",
    "\n",
    "```bash\n",
    "jupyter lab\n",
    "```\n",
    "\n",
    "[![Open in Colab](https://colab.research.google.com/assets/colab-badge.svg)](https://colab.research.google.com/github/giswqs/geebook/blob/master/chapters/04_local_data.ipynb)"
   ]
  },
  {
   "cell_type": "code",
   "execution_count": null,
   "id": "b2c6fb13",
   "metadata": {},
   "outputs": [],
   "source": [
    "# pip install pygis"
   ]
  },
  {
   "cell_type": "code",
   "execution_count": null,
   "id": "0697002e",
   "metadata": {},
   "outputs": [],
   "source": [
    "import ee\n",
    "import geemap"
   ]
  },
  {
   "cell_type": "code",
   "execution_count": null,
   "id": "2faf025c",
   "metadata": {},
   "outputs": [],
   "source": [
    "geemap.ee_initialize()"
   ]
  },
  {
   "cell_type": "markdown",
   "id": "c6094dbd",
   "metadata": {},
   "source": [
    "## Local raster datasets\n",
    "\n",
    "### Single-band imagery"
   ]
  },
  {
   "cell_type": "code",
   "execution_count": null,
   "id": "01508772",
   "metadata": {},
   "outputs": [],
   "source": [
    "url = 'https://github.com/giswqs/data/raw/main/raster/srtm90.tif'\n",
    "filename = 'srtm90.tif'\n",
    "geemap.download_file(url, filename)"
   ]
  },
  {
   "cell_type": "code",
   "execution_count": null,
   "id": "b02fa5ff",
   "metadata": {},
   "outputs": [],
   "source": [
    "Map = geemap.Map()\n",
    "\n",
    "Map.add_raster(filename, palette='terrain', layer_name=\"DEM\")\n",
    "\n",
    "vis_params = {'min': 0, 'max': 4000, 'palette': 'terrain'}\n",
    "\n",
    "Map.add_colorbar(vis_params, label='Elevation (m)')\n",
    "Map"
   ]
  },
  {
   "cell_type": "markdown",
   "id": "fd5b5efa",
   "metadata": {},
   "source": [
    "### Multi-band imagery"
   ]
  },
  {
   "cell_type": "code",
   "execution_count": null,
   "id": "c15a67fc",
   "metadata": {},
   "outputs": [],
   "source": [
    "url = 'https://github.com/giswqs/leafmap/raw/master/examples/data/cog.tif'\n",
    "filename = 'cog.tif'\n",
    "geemap.download_file(url, filename)"
   ]
  },
  {
   "cell_type": "code",
   "execution_count": null,
   "id": "68b94af1",
   "metadata": {},
   "outputs": [],
   "source": [
    "Map = geemap.Map()\n",
    "Map.add_raster(filename, band=[4, 1, 2], layer_name=\"Color infrared\")\n",
    "Map"
   ]
  },
  {
   "cell_type": "markdown",
   "id": "3db55a4a",
   "metadata": {},
   "source": [
    "### Interactive raster GUI"
   ]
  },
  {
   "cell_type": "markdown",
   "id": "5082d711",
   "metadata": {},
   "source": [
    "## Cloud Optimized GeoTIFF (COG)\n",
    "\n",
    "### Visualizing COG"
   ]
  },
  {
   "cell_type": "code",
   "execution_count": null,
   "id": "b8b559df",
   "metadata": {},
   "outputs": [],
   "source": [
    "url = 'https://tinyurl.com/24bo8umr'"
   ]
  },
  {
   "cell_type": "code",
   "execution_count": null,
   "id": "3b3e0b1f",
   "metadata": {},
   "outputs": [],
   "source": [
    "geemap.cog_bounds(url)"
   ]
  },
  {
   "cell_type": "code",
   "execution_count": null,
   "id": "32c897d4",
   "metadata": {},
   "outputs": [],
   "source": [
    "geemap.cog_center(url)"
   ]
  },
  {
   "cell_type": "code",
   "execution_count": null,
   "id": "1ab3a9e5",
   "metadata": {},
   "outputs": [],
   "source": [
    "geemap.cog_bands(url)"
   ]
  },
  {
   "cell_type": "code",
   "execution_count": null,
   "id": "85330ba0",
   "metadata": {},
   "outputs": [],
   "source": [
    "geemap.cog_tile(url)"
   ]
  },
  {
   "cell_type": "code",
   "execution_count": null,
   "id": "61b4c11e",
   "metadata": {},
   "outputs": [],
   "source": [
    "Map = geemap.Map()\n",
    "Map.add_cog_layer(url, name=\"Fire (pre-event)\")\n",
    "Map"
   ]
  },
  {
   "cell_type": "code",
   "execution_count": null,
   "id": "39789b02",
   "metadata": {},
   "outputs": [],
   "source": [
    "url2 = 'https://tinyurl.com/2awjl66w'\n",
    "Map.add_cog_layer(url2, name=\"Fire (post-event)\")\n",
    "Map"
   ]
  },
  {
   "cell_type": "markdown",
   "id": "54f29a43",
   "metadata": {},
   "source": [
    "### Creating COG"
   ]
  },
  {
   "cell_type": "code",
   "execution_count": null,
   "id": "531f9258",
   "metadata": {},
   "outputs": [],
   "source": [
    "url = \"https://github.com/giswqs/data/raw/main/raster/srtm90.tif\"\n",
    "geemap.cog_validate(url)"
   ]
  },
  {
   "cell_type": "code",
   "execution_count": null,
   "id": "f3f27322",
   "metadata": {},
   "outputs": [],
   "source": [
    "geemap.cog_validate(url, verbose=True)"
   ]
  },
  {
   "cell_type": "code",
   "execution_count": null,
   "id": "fea059f8",
   "metadata": {},
   "outputs": [],
   "source": [
    "out_cog = \"cog.tif\"\n",
    "geemap.image_to_cog(url, out_cog)"
   ]
  },
  {
   "cell_type": "code",
   "execution_count": null,
   "id": "62054af9",
   "metadata": {},
   "outputs": [],
   "source": [
    "geemap.cog_validate(out_cog)"
   ]
  },
  {
   "cell_type": "code",
   "execution_count": null,
   "id": "6918b121",
   "metadata": {},
   "outputs": [],
   "source": [
    "Map = geemap.Map()\n",
    "Map.add_raster(out_cog, palette=\"terrain\", layer_name=\"Local COG\")\n",
    "Map.add_cog_layer(url, palette=\"gist_earth\", name=\"Remote COG\")\n",
    "\n",
    "vis_params = {'min': 0, 'max': 4000, 'palette': 'gist_earth'}\n",
    "Map.add_colorbar(vis_params, label='Elevation (m)')\n",
    "Map"
   ]
  },
  {
   "cell_type": "markdown",
   "id": "0ff46c60",
   "metadata": {},
   "source": [
    "### Converting NumPy arrays to COG"
   ]
  },
  {
   "cell_type": "code",
   "execution_count": null,
   "id": "324f1bc3",
   "metadata": {},
   "outputs": [],
   "source": [
    "url = 'https://github.com/giswqs/leafmap/raw/master/examples/data/cog.tif'\n",
    "in_cog = 'cog.tif'\n",
    "out_cog = \"ndvi.tif\"\n",
    "geemap.download_file(url, in_cog)"
   ]
  },
  {
   "cell_type": "code",
   "execution_count": null,
   "id": "a3480021",
   "metadata": {},
   "outputs": [],
   "source": [
    "arr = geemap.image_to_numpy(in_cog)"
   ]
  },
  {
   "cell_type": "code",
   "execution_count": null,
   "id": "05fe7b2c",
   "metadata": {},
   "outputs": [],
   "source": [
    "arr.shape"
   ]
  },
  {
   "cell_type": "code",
   "execution_count": null,
   "id": "d86b2e7c",
   "metadata": {},
   "outputs": [],
   "source": [
    "ndvi = (arr[3] - arr[0]) / (arr[3] + arr[0])"
   ]
  },
  {
   "cell_type": "code",
   "execution_count": null,
   "id": "5bc5125b",
   "metadata": {},
   "outputs": [],
   "source": [
    "ndvi.shape"
   ]
  },
  {
   "cell_type": "code",
   "execution_count": null,
   "id": "af690118",
   "metadata": {},
   "outputs": [],
   "source": [
    "geemap.numpy_to_cog(ndvi, out_cog, profile=in_cog)"
   ]
  },
  {
   "cell_type": "code",
   "execution_count": null,
   "id": "b37ed0e2",
   "metadata": {},
   "outputs": [],
   "source": [
    "Map = geemap.Map()\n",
    "Map.add_raster(in_cog, band=[4, 1, 2], layer_name=\"Color infrared\")\n",
    "Map.add_raster(out_cog, palette=\"Greens\", layer_name=\"NDVI\")\n",
    "Map"
   ]
  },
  {
   "cell_type": "markdown",
   "id": "08fdf90f",
   "metadata": {},
   "source": [
    "### Clipping image by mask"
   ]
  },
  {
   "cell_type": "code",
   "execution_count": null,
   "id": "1e26e7f1",
   "metadata": {},
   "outputs": [],
   "source": [
    "url = 'https://github.com/giswqs/data/raw/main/raster/srtm90.tif'\n",
    "dem = 'dem.tif'\n",
    "geemap.download_file(url, dem)"
   ]
  },
  {
   "cell_type": "code",
   "execution_count": null,
   "id": "3388db85",
   "metadata": {},
   "outputs": [],
   "source": [
    "Map = geemap.Map()\n",
    "Map.add_raster(dem, palette='terrain', layer_name=\"DEM\")\n",
    "Map"
   ]
  },
  {
   "cell_type": "code",
   "execution_count": null,
   "id": "fc57c298",
   "metadata": {},
   "outputs": [],
   "source": [
    "mask = (\n",
    "    'https://raw.githubusercontent.com/giswqs/leafmap/master/examples/data/mask.geojson'\n",
    ")"
   ]
  },
  {
   "cell_type": "code",
   "execution_count": null,
   "id": "0335d88a",
   "metadata": {},
   "outputs": [],
   "source": [
    "mask = Map.user_roi"
   ]
  },
  {
   "cell_type": "code",
   "execution_count": null,
   "id": "b5dca175",
   "metadata": {},
   "outputs": [],
   "source": [
    "mask = [\n",
    "    [-119.679565, 37.256566],\n",
    "    [-119.679565, 38.061067],\n",
    "    [-118.24585, 38.061067],\n",
    "    [-118.24585, 37.256566],\n",
    "    [-119.679565, 37.256566],\n",
    "]"
   ]
  },
  {
   "cell_type": "code",
   "execution_count": null,
   "id": "631fb56e",
   "metadata": {},
   "outputs": [],
   "source": [
    "output = 'clip.tif'\n",
    "geemap.clip_image(dem, mask, output)\n",
    "Map.add_raster(output, palette='coolwarm', layer_name=\"Clip Image\")\n",
    "Map"
   ]
  },
  {
   "cell_type": "markdown",
   "id": "ad9c73fb",
   "metadata": {},
   "source": [
    "## SpatioTemporal Asset Catalog (STAC)"
   ]
  },
  {
   "cell_type": "code",
   "execution_count": null,
   "id": "2bfba015",
   "metadata": {},
   "outputs": [],
   "source": [
    "url = 'https://tinyurl.com/22vptbws'"
   ]
  },
  {
   "cell_type": "code",
   "execution_count": null,
   "id": "524475b8",
   "metadata": {},
   "outputs": [],
   "source": [
    "geemap.stac_bounds(url)"
   ]
  },
  {
   "cell_type": "code",
   "execution_count": null,
   "id": "1cf3943e",
   "metadata": {},
   "outputs": [],
   "source": [
    "geemap.stac_center(url)"
   ]
  },
  {
   "cell_type": "code",
   "execution_count": null,
   "id": "b1391ed6",
   "metadata": {},
   "outputs": [],
   "source": [
    "geemap.stac_bands(url)"
   ]
  },
  {
   "cell_type": "code",
   "execution_count": null,
   "id": "71a487e3",
   "metadata": {},
   "outputs": [],
   "source": [
    "geemap.stac_tile(url, bands=['B3', 'B2', 'B1'])"
   ]
  },
  {
   "cell_type": "code",
   "execution_count": null,
   "id": "93dbaabe",
   "metadata": {},
   "outputs": [],
   "source": [
    "Map = geemap.Map()\n",
    "Map.add_stac_layer(url, bands=['pan'], name='Panchromatic')\n",
    "Map.add_stac_layer(url, bands=['B3', 'B2', 'B1'], name='False color')\n",
    "Map"
   ]
  },
  {
   "cell_type": "markdown",
   "id": "af562359",
   "metadata": {},
   "source": [
    "## Vector datasets\n",
    "\n",
    "### GeoJSON"
   ]
  },
  {
   "cell_type": "code",
   "execution_count": null,
   "id": "3bc3e4fd",
   "metadata": {},
   "outputs": [],
   "source": [
    "in_geojson = (\n",
    "    'https://github.com/giswqs/geemap/blob/master/examples/data/cable_geo.geojson'\n",
    ")"
   ]
  },
  {
   "cell_type": "code",
   "execution_count": null,
   "id": "4da3822f",
   "metadata": {},
   "outputs": [],
   "source": [
    "Map = geemap.Map()\n",
    "Map.add_geojson(in_geojson, layer_name=\"Cable lines\", info_mode=\"on_hover\")\n",
    "Map"
   ]
  },
  {
   "cell_type": "code",
   "execution_count": null,
   "id": "12e0a0d5",
   "metadata": {},
   "outputs": [],
   "source": [
    "Map = geemap.Map()\n",
    "Map.add_basemap(\"CartoDB.DarkMatter\")\n",
    "callback = lambda feat: {\"color\": \"#\" + feat[\"properties\"][\"color\"], \"weight\": 2}\n",
    "Map.add_geojson(in_geojson, layer_name=\"Cable lines\", style_callback=callback)\n",
    "Map"
   ]
  },
  {
   "cell_type": "code",
   "execution_count": null,
   "id": "4f54fa3c",
   "metadata": {},
   "outputs": [],
   "source": [
    "url = \"https://github.com/giswqs/geemap/blob/master/examples/data/countries.geojson\""
   ]
  },
  {
   "cell_type": "code",
   "execution_count": null,
   "id": "ce1b6ee3",
   "metadata": {},
   "outputs": [],
   "source": [
    "Map = geemap.Map()\n",
    "Map.add_geojson(\n",
    "    url, layer_name=\"Countries\", fill_colors=['red', 'yellow', 'green', 'orange']\n",
    ")\n",
    "Map"
   ]
  },
  {
   "cell_type": "code",
   "execution_count": null,
   "id": "50420a88",
   "metadata": {},
   "outputs": [],
   "source": [
    "import random\n",
    "\n",
    "Map = geemap.Map()\n",
    "\n",
    "\n",
    "def random_color(feature):\n",
    "    return {\n",
    "        'color': 'black',\n",
    "        'weight': 3,\n",
    "        'fillColor': random.choice(['red', 'yellow', 'green', 'orange']),\n",
    "    }\n",
    "\n",
    "\n",
    "Map.add_geojson(url, layer_name=\"Countries\", style_callback=random_color)\n",
    "Map"
   ]
  },
  {
   "cell_type": "code",
   "execution_count": null,
   "id": "46272d99",
   "metadata": {},
   "outputs": [],
   "source": [
    "Map = geemap.Map()\n",
    "\n",
    "style = {\n",
    "    \"stroke\": True,\n",
    "    \"color\": \"#0000ff\",\n",
    "    \"weight\": 2,\n",
    "    \"opacity\": 1,\n",
    "    \"fill\": True,\n",
    "    \"fillColor\": \"#0000ff\",\n",
    "    \"fillOpacity\": 0.1,\n",
    "}\n",
    "\n",
    "hover_style = {\"fillOpacity\": 0.7}\n",
    "\n",
    "Map.add_geojson(url, layer_name=\"Countries\", style=style, hover_style=hover_style)\n",
    "Map"
   ]
  },
  {
   "cell_type": "markdown",
   "id": "a0789e02",
   "metadata": {},
   "source": [
    "### Shapefile"
   ]
  },
  {
   "cell_type": "code",
   "execution_count": null,
   "id": "9cff4a26",
   "metadata": {},
   "outputs": [],
   "source": [
    "url = \"https://github.com/giswqs/geemap/blob/master/examples/data/countries.zip\"\n",
    "geemap.download_file(url)"
   ]
  },
  {
   "cell_type": "code",
   "execution_count": null,
   "id": "1c4c35fa",
   "metadata": {},
   "outputs": [],
   "source": [
    "Map = geemap.Map()\n",
    "in_shp = \"countries.shp\"\n",
    "Map.add_shp(in_shp, layer_name=\"Countries\")\n",
    "Map"
   ]
  },
  {
   "cell_type": "markdown",
   "id": "68216184",
   "metadata": {},
   "source": [
    "### KML"
   ]
  },
  {
   "cell_type": "code",
   "execution_count": null,
   "id": "4487d25f",
   "metadata": {},
   "outputs": [],
   "source": [
    "in_kml = \"https://github.com/giswqs/geemap/blob/master/examples/data/us_states.kml\""
   ]
  },
  {
   "cell_type": "code",
   "execution_count": null,
   "id": "46087ccc",
   "metadata": {},
   "outputs": [],
   "source": [
    "Map = geemap.Map(center=[40, -100], zoom=4)\n",
    "Map.add_kml(in_kml, layer_name=\"US States\")\n",
    "Map"
   ]
  },
  {
   "cell_type": "markdown",
   "id": "e1c89844",
   "metadata": {},
   "source": [
    "### GeoDataFrame"
   ]
  },
  {
   "cell_type": "code",
   "execution_count": null,
   "id": "7d568696",
   "metadata": {},
   "outputs": [],
   "source": [
    "import geopandas as gpd"
   ]
  },
  {
   "cell_type": "code",
   "execution_count": null,
   "id": "6f16d451",
   "metadata": {},
   "outputs": [],
   "source": [
    "Map = geemap.Map(center=[40, -100], zoom=4)\n",
    "gdf = gpd.read_file('countries.shp')\n",
    "Map.add_gdf(gdf, layer_name=\"US States\")\n",
    "Map"
   ]
  },
  {
   "cell_type": "markdown",
   "id": "a1f02b39",
   "metadata": {},
   "source": [
    "### Other vector formats"
   ]
  },
  {
   "cell_type": "code",
   "execution_count": null,
   "id": "41c28a68",
   "metadata": {},
   "outputs": [],
   "source": [
    "Map = geemap.Map()\n",
    "data = 'https://github.com/giswqs/geemap/blob/master/examples/data/countries.gpkg'\n",
    "Map.add_vector(data, layer_name=\"Countries\")\n",
    "Map"
   ]
  },
  {
   "cell_type": "markdown",
   "id": "ffef08ef",
   "metadata": {},
   "source": [
    "## Creating points from XY\n",
    "\n",
    "### CSV to vector"
   ]
  },
  {
   "cell_type": "code",
   "execution_count": null,
   "id": "2b9a6e4c",
   "metadata": {},
   "outputs": [],
   "source": [
    "data = 'https://github.com/giswqs/geemap/blob/master/examples/data/us_cities.csv'\n",
    "geemap.csv_to_df(data)"
   ]
  },
  {
   "cell_type": "code",
   "execution_count": null,
   "id": "85185817",
   "metadata": {},
   "outputs": [],
   "source": [
    "geemap.csv_to_geojson(\n",
    "    data, 'cities.geojson', latitude=\"latitude\", longitude='longitude'\n",
    ")"
   ]
  },
  {
   "cell_type": "code",
   "execution_count": null,
   "id": "9d39e376",
   "metadata": {},
   "outputs": [],
   "source": [
    "geemap.csv_to_shp(data, 'cities.shp', latitude=\"latitude\", longitude='longitude')"
   ]
  },
  {
   "cell_type": "code",
   "execution_count": null,
   "id": "9267e0a3",
   "metadata": {},
   "outputs": [],
   "source": [
    "geemap.csv_to_gdf(data, latitude=\"latitude\", longitude='longitude')"
   ]
  },
  {
   "cell_type": "code",
   "execution_count": null,
   "id": "881b8259",
   "metadata": {},
   "outputs": [],
   "source": [
    "geemap.csv_to_vector(data, 'cities.gpkg', latitude=\"latitude\", longitude='longitude')"
   ]
  },
  {
   "cell_type": "markdown",
   "id": "2ae34d2b",
   "metadata": {},
   "source": [
    "### Adding points from XY"
   ]
  },
  {
   "cell_type": "code",
   "execution_count": null,
   "id": "af64c3c2",
   "metadata": {},
   "outputs": [],
   "source": [
    "cities = 'https://github.com/giswqs/geemap/blob/master/examples/data/us_cities.csv'\n",
    "regions = (\n",
    "    'https://github.com/giswqs/geemap/blob/master/examples/data/us_regions.geojson'\n",
    ")"
   ]
  },
  {
   "cell_type": "code",
   "execution_count": null,
   "id": "6334e1df",
   "metadata": {},
   "outputs": [],
   "source": [
    "Map = geemap.Map(center=[40, -100], zoom=4)\n",
    "Map.add_points_from_xy(data, x=\"longitude\", y=\"latitude\")\n",
    "Map"
   ]
  },
  {
   "cell_type": "code",
   "execution_count": null,
   "id": "66d1a835",
   "metadata": {},
   "outputs": [],
   "source": [
    "Map = geemap.Map(center=[40, -100], zoom=4)\n",
    "\n",
    "Map.add_geojson(regions, layer_name='US Regions')\n",
    "\n",
    "Map.add_points_from_xy(\n",
    "    data,\n",
    "    x='longitude',\n",
    "    y='latitude',\n",
    "    layer_name='US Cities',\n",
    "    color_column='region',\n",
    "    icon_names=['gear', 'map', 'leaf', 'globe'],\n",
    "    spin=True,\n",
    "    add_legend=True,\n",
    ")\n",
    "Map"
   ]
  },
  {
   "cell_type": "markdown",
   "id": "ae4026bf",
   "metadata": {},
   "source": [
    "### Circle markers from points"
   ]
  },
  {
   "cell_type": "code",
   "execution_count": null,
   "id": "8aeb346d",
   "metadata": {},
   "outputs": [],
   "source": [
    "data = 'https://github.com/giswqs/geemap/blob/master/examples/data/us_cities.csv'"
   ]
  },
  {
   "cell_type": "code",
   "execution_count": null,
   "id": "9d7084ad",
   "metadata": {},
   "outputs": [],
   "source": [
    "Map = geemap.Map(center=[40, -100], zoom=4)\n",
    "Map.add_circle_markers_from_xy(\n",
    "    data,\n",
    "    x=\"longitude\",\n",
    "    y=\"latitude\",\n",
    "    radius=10,\n",
    "    color=\"blue\",\n",
    "    fill_color=\"black\",\n",
    "    fill_opacity=0.5,\n",
    ")\n",
    "Map"
   ]
  },
  {
   "cell_type": "markdown",
   "id": "254867bb",
   "metadata": {},
   "source": [
    "## Vector data to Earth Engine"
   ]
  },
  {
   "cell_type": "code",
   "execution_count": null,
   "id": "c244520f",
   "metadata": {},
   "outputs": [],
   "source": [
    "in_geojson = (\n",
    "    'https://github.com/giswqs/geemap/blob/master/examples/data/countries.geojson'\n",
    ")\n",
    "Map = geemap.Map()\n",
    "fc = geemap.geojson_to_ee(in_geojson)\n",
    "Map.addLayer(fc.style(**{'color': 'ff0000', 'fillColor': '00000000'}), {}, 'Countries')\n",
    "Map"
   ]
  },
  {
   "cell_type": "code",
   "execution_count": null,
   "id": "477df6be",
   "metadata": {},
   "outputs": [],
   "source": [
    "url = \"https://github.com/giswqs/geemap/blob/master/examples/data/countries.zip\"\n",
    "geemap.download_file(url)"
   ]
  },
  {
   "cell_type": "code",
   "execution_count": null,
   "id": "88f17ee1",
   "metadata": {},
   "outputs": [],
   "source": [
    "in_shp = \"countries.shp\"\n",
    "fc = geemap.shp_to_ee(in_shp)"
   ]
  },
  {
   "cell_type": "code",
   "execution_count": null,
   "id": "525711d8",
   "metadata": {},
   "outputs": [],
   "source": [
    "import geopandas as gpd\n",
    "\n",
    "gdf = gpd.read_file(in_shp)\n",
    "fc = geemap.gdf_to_ee(gdf)"
   ]
  },
  {
   "cell_type": "code",
   "execution_count": null,
   "id": "68c0915c",
   "metadata": {},
   "outputs": [],
   "source": [
    "fc = geemap.vector_to_ee(url)"
   ]
  },
  {
   "cell_type": "markdown",
   "id": "b6a1b105",
   "metadata": {},
   "source": [
    "## Joining attribute tables"
   ]
  },
  {
   "cell_type": "code",
   "execution_count": null,
   "id": "a85d90a9",
   "metadata": {},
   "outputs": [],
   "source": [
    "Map = geemap.Map()\n",
    "countries = ee.FeatureCollection(geemap.examples.get_ee_path('countries'))\n",
    "Map.addLayer(countries, {}, 'Countries')\n",
    "Map"
   ]
  },
  {
   "cell_type": "code",
   "execution_count": null,
   "id": "f8723513",
   "metadata": {},
   "outputs": [],
   "source": [
    "geemap.ee_to_df(countries)"
   ]
  },
  {
   "cell_type": "code",
   "execution_count": null,
   "id": "4bb146b5",
   "metadata": {},
   "outputs": [],
   "source": [
    "data = (\n",
    "    'https://github.com/giswqs/geemap/blob/master/examples/data/country_centroids.csv'\n",
    ")\n",
    "df = geemap.csv_to_df(data)\n",
    "df"
   ]
  },
  {
   "cell_type": "code",
   "execution_count": null,
   "id": "4fcece28",
   "metadata": {},
   "outputs": [],
   "source": [
    "fc = geemap.ee_join_table(countries, data, src_key='ISO_A2', dst_key='country')"
   ]
  },
  {
   "cell_type": "code",
   "execution_count": null,
   "id": "1d66dc1d",
   "metadata": {},
   "outputs": [],
   "source": [
    "geemap.ee_to_df(fc)"
   ]
  },
  {
   "cell_type": "code",
   "execution_count": null,
   "id": "1a1db339",
   "metadata": {},
   "outputs": [],
   "source": [
    "Map.addLayer(fc, {}, 'Countries with attr')\n",
    "Map"
   ]
  },
  {
   "cell_type": "markdown",
   "id": "0c9235e5",
   "metadata": {},
   "source": [
    "## Converting NetCDF to ee.Image"
   ]
  },
  {
   "cell_type": "code",
   "execution_count": null,
   "id": "e82e015a",
   "metadata": {},
   "outputs": [],
   "source": [
    "import os"
   ]
  },
  {
   "cell_type": "code",
   "execution_count": null,
   "id": "ebeea445",
   "metadata": {},
   "outputs": [],
   "source": [
    "url = 'https://github.com/giswqs/geemap/blob/master/examples/data/wind_global.nc'\n",
    "nc_file = 'wind_global.nc'\n",
    "if not os.path.exists(nc_file):\n",
    "    geemap.download_file(url)"
   ]
  },
  {
   "cell_type": "code",
   "execution_count": null,
   "id": "49d6e580",
   "metadata": {},
   "outputs": [],
   "source": [
    "Map = geemap.Map()\n",
    "img = geemap.netcdf_to_ee(nc_file=nc_file, var_names='u_wind')\n",
    "vis_params = {'min': -20, 'max': 25, 'palette': 'YlOrRd', 'opacity': 0.6}\n",
    "Map.addLayer(img, vis_params, \"u_wind\")\n",
    "Map"
   ]
  },
  {
   "cell_type": "code",
   "execution_count": null,
   "id": "77e81522",
   "metadata": {},
   "outputs": [],
   "source": [
    "Map = geemap.Map()\n",
    "img = geemap.netcdf_to_ee(nc_file=nc_file, var_names=['u_wind', 'v_wind'])\n",
    "Map.addLayer(\n",
    "    img,\n",
    "    {'bands': ['v_wind'], 'min': -20, 'max': 25, 'palette': 'coolwarm', 'opacity': 0.8},\n",
    "    \"v_wind\",\n",
    ")\n",
    "Map"
   ]
  },
  {
   "cell_type": "markdown",
   "id": "f20ac282",
   "metadata": {},
   "source": [
    "## OpenStreetMap data\n",
    "\n",
    "### OSM to GeoDataFrame"
   ]
  },
  {
   "cell_type": "code",
   "execution_count": null,
   "id": "32fd8b4d",
   "metadata": {},
   "outputs": [],
   "source": [
    "gdf = geemap.osm_to_gdf(\"Knoxville, Tennessee\")\n",
    "gdf"
   ]
  },
  {
   "cell_type": "markdown",
   "id": "20a94136",
   "metadata": {},
   "source": [
    "### OSM to ee.FeatureCollection"
   ]
  },
  {
   "cell_type": "code",
   "execution_count": null,
   "id": "a7aa69c3",
   "metadata": {},
   "outputs": [],
   "source": [
    "Map = geemap.Map()\n",
    "fc = geemap.osm_to_ee(\"Knoxville, Tennessee\")\n",
    "Map.addLayer(fc, {}, \"Knoxville\")\n",
    "Map.centerObject(fc, 11)\n",
    "Map"
   ]
  },
  {
   "cell_type": "markdown",
   "id": "447f6a0f",
   "metadata": {},
   "source": [
    "### Downloading OSM data"
   ]
  },
  {
   "cell_type": "code",
   "execution_count": null,
   "id": "ce38d235",
   "metadata": {},
   "outputs": [],
   "source": [
    "Map = geemap.Map()\n",
    "gdf = geemap.osm_gdf_from_geocode(\"New York City\")\n",
    "Map.add_gdf(gdf, layer_name=\"NYC\")\n",
    "Map"
   ]
  },
  {
   "cell_type": "code",
   "execution_count": null,
   "id": "7d227929",
   "metadata": {},
   "outputs": [],
   "source": [
    "place = \"Bunker Hill, Los Angeles, California\"\n",
    "tags = {\"building\": True}\n",
    "gdf = geemap.osm_gdf_from_place(place, tags)\n",
    "gdf"
   ]
  },
  {
   "cell_type": "code",
   "execution_count": null,
   "id": "6102a70b",
   "metadata": {},
   "outputs": [],
   "source": [
    "Map = geemap.Map()\n",
    "Map.add_gdf(gdf, layer_name=\"Los Angeles, CA\")\n",
    "Map"
   ]
  },
  {
   "cell_type": "code",
   "execution_count": null,
   "id": "a11ba257",
   "metadata": {},
   "outputs": [],
   "source": [
    "gdf = geemap.osm_gdf_from_address(\n",
    "    address=\"New York City\", tags={\"amenity\": \"bar\"}, dist=1500\n",
    ")\n",
    "gdf"
   ]
  },
  {
   "cell_type": "code",
   "execution_count": null,
   "id": "4d04b849",
   "metadata": {},
   "outputs": [],
   "source": [
    "Map = geemap.Map()\n",
    "Map.add_gdf(gdf, layer_name=\"NYC bars\")\n",
    "Map"
   ]
  },
  {
   "cell_type": "code",
   "execution_count": null,
   "id": "82f29c41",
   "metadata": {},
   "outputs": [],
   "source": [
    "gdf = geemap.osm_gdf_from_point(\n",
    "    center_point=(46.7808, -96.0156),\n",
    "    tags={\"natural\": \"water\"},\n",
    "    dist=10000,\n",
    ")\n",
    "gdf"
   ]
  },
  {
   "cell_type": "code",
   "execution_count": null,
   "id": "8f2434dd",
   "metadata": {},
   "outputs": [],
   "source": [
    "Map = geemap.Map()\n",
    "Map.add_gdf(gdf, layer_name=\"Lakes\")\n",
    "Map"
   ]
  },
  {
   "cell_type": "code",
   "execution_count": null,
   "id": "aed36b68",
   "metadata": {},
   "outputs": [],
   "source": [
    "Map = geemap.Map(center=[40.7500, -73.9854], zoom=16)\n",
    "Map"
   ]
  },
  {
   "cell_type": "code",
   "execution_count": null,
   "id": "bd668ec3",
   "metadata": {},
   "outputs": [],
   "source": [
    "Map.add_osm_from_view(tags={\"amenity\": \"bar\", \"building\": True})"
   ]
  },
  {
   "cell_type": "markdown",
   "id": "7183d10d",
   "metadata": {},
   "source": [
    "## Reading PostGIS data\n",
    "\n",
    "```bash\n",
    "mamba install sqlalchemy psycopg2 -c conda-forge\n",
    "```"
   ]
  },
  {
   "cell_type": "code",
   "execution_count": null,
   "id": "2d24b114",
   "metadata": {},
   "outputs": [],
   "source": [
    "con = geemap.connect_postgis(\n",
    "    database=\"nyc\", host=\"localhost\", user=None, password=None, use_env_var=True\n",
    ")"
   ]
  },
  {
   "cell_type": "code",
   "execution_count": null,
   "id": "337672c5",
   "metadata": {},
   "outputs": [],
   "source": [
    "sql = 'SELECT * FROM nyc_neighborhoods'\n",
    "gdf = geemap.read_postgis(sql, con)\n",
    "gdf"
   ]
  },
  {
   "cell_type": "code",
   "execution_count": null,
   "id": "4b8b033d",
   "metadata": {},
   "outputs": [],
   "source": [
    "Map = geemap.Map()\n",
    "Map = geemap.gdf_to_ee(gdf)\n",
    "Map.addLayer(fc, {}, \"NYC EE\")\n",
    "Map.centerObject(fc)\n",
    "Map"
   ]
  },
  {
   "cell_type": "code",
   "execution_count": null,
   "id": "f2026879",
   "metadata": {},
   "outputs": [],
   "source": [
    "Map = geemap.Map()\n",
    "Map.add_gdf_from_postgis(\n",
    "    sql, con, layer_name=\"NYC Neighborhoods\", fill_colors=[\"red\", \"green\", \"blue\"]\n",
    ")\n",
    "Map"
   ]
  },
  {
   "cell_type": "markdown",
   "id": "b32e9af9",
   "metadata": {},
   "source": [
    "## Summary\n",
    "\n",
    "## References\n",
    "\n",
    "- https://geemap.org/notebooks/25_load_rasters/\n",
    "- https://geemap.org/notebooks/44_cog_stac/\n",
    "- https://geemap.org/notebooks/56_local_data/\n",
    "- https://geemap.org/notebooks/68_netcdf_to_ee/\n",
    "- https://geemap.org/notebooks/83_local_tile/\n",
    "- https://geemap.org/notebooks/58_add_vector/\n",
    "- https://geemap.org/notebooks/74_csv_to_points/\n",
    "- https://geemap.org/notebooks/76_osm_to_ee/\n",
    "- https://geemap.org/notebooks/80_point_layer/\n",
    "- https://geemap.org/notebooks/83_local_tile/\n",
    "- https://geemap.org/notebooks/84_openstreetmap/\n",
    "- https://geemap.org/notebooks/85_postgis/\n",
    "- https://geemap.org/notebooks/87_add_points_from_xy/\n",
    "- https://geemap.org/notebooks/88_circle_markers/\n",
    "- https://geemap.org/notebooks/95_create_cog/\n",
    "- https://geemap.org/notebooks/97_join_table/\n",
    "- https://geemap.org/notebooks/100_numpy_to_cog/\n",
    "- https://geemap.org/notebooks/104_clip_image/"
   ]
  }
 ],
 "metadata": {
  "kernelspec": {
   "display_name": "Python 3",
   "language": "python",
   "name": "python3"
  }
 },
 "nbformat": 4,
 "nbformat_minor": 5
}
