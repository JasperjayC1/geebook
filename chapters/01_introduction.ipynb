{
 "cells": [
  {
   "cell_type": "markdown",
   "id": "e89e8c61",
   "metadata": {},
   "source": [
    "# Introducing GEE and Geemap\n",
    "\n",
    "```{contents}\n",
    ":local:\n",
    ":depth: 2\n",
    "```\n",
    "\n",
    "## Introduction\n",
    "\n",
    "## What is Geospatial Data Science\n",
    "\n",
    "## What is Google Earth Engine\n",
    "\n",
    "## What is geemap\n",
    "\n",
    "## Installing geemap\n",
    "\n",
    "### Installing with conda\n",
    "\n",
    "```bash\n",
    "conda create -n gee python\n",
    "conda activate gee\n",
    "conda install -c conda-forge geemap\n",
    "```\n",
    "\n",
    "```bash\n",
    "conda install -c conda-forge mamba\n",
    "mamba install -c conda-forge pygis\n",
    "```\n",
    "\n",
    "### Installing with pip\n",
    "\n",
    "```bash\n",
    "pip install geemap\n",
    "```\n",
    "\n",
    "### Installing from source\n",
    "\n",
    "```bash\n",
    "git clone https://github.com/giswqs/geemap\n",
    "cd geemap\n",
    "pip install .\n",
    "```\n",
    "\n",
    "```bash\n",
    "pip install git+https://github.com/giswqs/geemap\n",
    "```\n",
    "\n",
    "### Upgrading geemap\n",
    "\n",
    "```bash\n",
    "pip install -U geemap\n",
    "```\n",
    "\n",
    "```bash\n",
    "conda update -c conda-forge geemap\n",
    "```"
   ]
  },
  {
   "cell_type": "code",
   "execution_count": null,
   "id": "ef6f62f3",
   "metadata": {},
   "outputs": [],
   "source": [
    "import geemap\n",
    "geemap.update_package()"
   ]
  },
  {
   "cell_type": "markdown",
   "id": "302c322a",
   "metadata": {},
   "source": [
    "### Using Docker\n",
    "\n",
    "## Creating a Jupyter notebook\n",
    "\n",
    "```bash\n",
    "conda activate gee\n",
    "```\n",
    "\n",
    "```bash\n",
    "jupyter lab\n",
    "```\n",
    "\n",
    "## Earth Engine authentication"
   ]
  },
  {
   "cell_type": "code",
   "execution_count": null,
   "id": "d13a67c7",
   "metadata": {},
   "outputs": [],
   "source": [
    "import ee\n",
    "ee.Authenticate()"
   ]
  },
  {
   "cell_type": "code",
   "execution_count": null,
   "id": "026e6c88",
   "metadata": {},
   "outputs": [],
   "source": [
    "ee.Initialize()"
   ]
  },
  {
   "cell_type": "markdown",
   "id": "b2bc129b",
   "metadata": {},
   "source": [
    "## Using Google Colab\n",
    "\n",
    "Click the **Open in Colab** button below to open this notebook in Google Colab:\n",
    "\n",
    "[![Open in Colab](https://colab.research.google.com/assets/colab-badge.svg)](https://colab.research.google.com/github/giswqs/geebook/blob/master/chapters/01_introduction.ipynb)\n",
    "\n",
    "```bash\n",
    "!pip install geemap\n",
    "```"
   ]
  },
  {
   "cell_type": "code",
   "execution_count": null,
   "id": "6368ed08",
   "metadata": {},
   "outputs": [],
   "source": [
    "import geemap\n",
    "Map = geemap.Map()\n",
    "Map"
   ]
  },
  {
   "cell_type": "markdown",
   "id": "f32fc5bf",
   "metadata": {},
   "source": [
    "## Using geemap with a VPN"
   ]
  },
  {
   "cell_type": "code",
   "execution_count": null,
   "id": "39f235aa",
   "metadata": {},
   "outputs": [],
   "source": [
    "import geemap\n",
    "geemap.set_proxy(port=your-port-number)\n",
    "Map = geemap.Map()\n",
    "Map"
   ]
  },
  {
   "cell_type": "markdown",
   "id": "508148b1",
   "metadata": {},
   "source": [
    "## Key features of geemap\n",
    "\n",
    "## Useful resources\n",
    "\n",
    "## Summary"
   ]
  }
 ],
 "metadata": {
  "kernelspec": {
   "display_name": "Python 3",
   "language": "python",
   "name": "python3"
  }
 },
 "nbformat": 4,
 "nbformat_minor": 5
}
