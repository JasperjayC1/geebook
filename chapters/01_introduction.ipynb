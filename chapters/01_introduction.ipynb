{
 "cells": [
  {
   "cell_type": "markdown",
   "id": "bbd6ba00",
   "metadata": {},
   "source": [
    "# Introducing GEE and Geemap\n",
    "\n",
    "## Introduction\n",
    "\n",
    "## What is Geospatial Data Science\n",
    "\n",
    "## What is Google Earth Engine\n",
    "\n",
    "## What is geemap\n",
    "\n",
    "## Installing geemap\n",
    "\n",
    "### Installing with conda\n",
    "\n",
    "```bash\n",
    "conda create -n gee python\n",
    "conda activate gee\n",
    "conda install -c conda-forge geemap\n",
    "```\n",
    "\n",
    "```bash\n",
    "conda install -c conda-forge mamba\n",
    "mamba install -c conda-forge pygis\n",
    "```\n",
    "\n",
    "### Installing with pip\n",
    "\n",
    "```bash\n",
    "pip install geemap\n",
    "```\n",
    "\n",
    "### Installing from source\n",
    "\n",
    "```bash\n",
    "git clone https://github.com/giswqs/geemap\n",
    "cd geemap\n",
    "pip install .\n",
    "```\n",
    "\n",
    "```bash\n",
    "pip install git+https://github.com/giswqs/geemap\n",
    "```\n",
    "\n",
    "### Upgrading geemap\n",
    "\n",
    "```bash\n",
    "pip install -U geemap\n",
    "```\n",
    "\n",
    "```bash\n",
    "conda update -c conda-forge geemap\n",
    "```"
   ]
  },
  {
   "cell_type": "code",
   "execution_count": null,
   "id": "ebbcce80",
   "metadata": {},
   "outputs": [],
   "source": [
    "import geemap\n",
    "\n",
    "geemap.update_package()"
   ]
  },
  {
   "cell_type": "markdown",
   "id": "5ec96299",
   "metadata": {},
   "source": [
    "### Using Docker\n",
    "\n",
    "## Creating a Jupyter notebook\n",
    "\n",
    "```bash\n",
    "conda activate gee\n",
    "```\n",
    "\n",
    "```bash\n",
    "jupyter lab\n",
    "```\n",
    "\n",
    "## Earth Engine authentication"
   ]
  },
  {
   "cell_type": "code",
   "execution_count": null,
   "id": "1e5736d9",
   "metadata": {},
   "outputs": [],
   "source": [
    "import ee\n",
    "\n",
    "ee.Authenticate()"
   ]
  },
  {
   "cell_type": "code",
   "execution_count": null,
   "id": "6c78cdae",
   "metadata": {},
   "outputs": [],
   "source": [
    "ee.Initialize()"
   ]
  },
  {
   "cell_type": "markdown",
   "id": "3e2d62a6",
   "metadata": {},
   "source": [
    "## Using geemap with Google Colab\n",
    "\n",
    "```bash\n",
    "!pip install geemap\n",
    "```"
   ]
  },
  {
   "cell_type": "code",
   "execution_count": null,
   "id": "dc347885",
   "metadata": {},
   "outputs": [],
   "source": [
    "import geemap\n",
    "\n",
    "Map = geemap.Map()\n",
    "Map"
   ]
  },
  {
   "cell_type": "markdown",
   "id": "7da10803",
   "metadata": {},
   "source": [
    "## Using geemap with a VPN"
   ]
  },
  {
   "cell_type": "code",
   "execution_count": null,
   "id": "25b58c44",
   "metadata": {},
   "outputs": [],
   "source": [
    "import geemap\n",
    "\n",
    "geemap.set_proxy(port=your - port - number)\n",
    "Map = geemap.Map()\n",
    "Map"
   ]
  },
  {
   "cell_type": "markdown",
   "id": "f828b51f",
   "metadata": {},
   "source": [
    "## Key features of geemap\n",
    "\n",
    "## Useful resources\n",
    "\n",
    "## Summary"
   ]
  }
 ],
 "metadata": {
  "kernelspec": {
   "display_name": "Python 3",
   "language": "python",
   "name": "python3"
  }
 },
 "nbformat": 4,
 "nbformat_minor": 5
}
